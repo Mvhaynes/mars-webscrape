{
 "cells": [
  {
   "cell_type": "code",
   "execution_count": 1,
   "metadata": {},
   "outputs": [],
   "source": [
    "import pandas as pd\n",
    "from bs4 import BeautifulSoup as bs\n",
    "import requests\n",
    "from splinter import Browser\n",
    "from webdriver_manager.chrome import ChromeDriverManager"
   ]
  },
  {
   "cell_type": "markdown",
   "metadata": {},
   "source": [
    "## Mars Exploration Program Scrape"
   ]
  },
  {
   "cell_type": "code",
   "execution_count": 2,
   "metadata": {},
   "outputs": [],
   "source": [
    "# Import url and parse the html\n",
    "url = 'https://mars.nasa.gov/news/'\n",
    "response = requests.get(url)\n",
    "soup = bs(response.text, 'html.parser')"
   ]
  },
  {
   "cell_type": "code",
   "execution_count": 3,
   "metadata": {},
   "outputs": [],
   "source": [
    "# latest news title and paragraph text\n",
    "news_title = soup.find('div', class_='content_title').text\n",
    "p_text = soup.find('div', class_='image_and_description_container').text"
   ]
  },
  {
   "cell_type": "markdown",
   "metadata": {},
   "source": [
    "## JPL Scrape"
   ]
  },
  {
   "cell_type": "code",
   "execution_count": 4,
   "metadata": {},
   "outputs": [],
   "source": [
    "# Import url and parse the html\n",
    "response = requests.get(url)\n",
    "soup = bs(response.text, 'html.parser')"
   ]
  },
  {
   "cell_type": "code",
   "execution_count": 5,
   "metadata": {},
   "outputs": [
    {
     "name": "stderr",
     "output_type": "stream",
     "text": [
      "[WDM] - ====== WebDriver manager ======\n",
      "[WDM] - Current google-chrome version is 89.0.4389\n",
      "[WDM] - Get LATEST driver version for 89.0.4389\n"
     ]
    },
    {
     "name": "stdout",
     "output_type": "stream",
     "text": [
      "\n",
      "\n"
     ]
    },
    {
     "name": "stderr",
     "output_type": "stream",
     "text": [
      "[WDM] - Driver [/Users/melissahaynes/.wdm/drivers/chromedriver/mac64/89.0.4389.23/chromedriver] found in cache\n"
     ]
    }
   ],
   "source": [
    "# splinter: find the image url for the current Featured Mars Image - `featured_image_url`.\n",
    "executable_path = {'executable_path': ChromeDriverManager().install()}\n",
    "browser = Browser('chrome', **executable_path, headless=False)"
   ]
  },
  {
   "cell_type": "code",
   "execution_count": 6,
   "metadata": {},
   "outputs": [
    {
     "name": "stdout",
     "output_type": "stream",
     "text": [
      "https://data-class-jpl-space.s3.amazonaws.com/JPL_Space/image/featured/mars3.jpg\n"
     ]
    }
   ],
   "source": [
    "# open the url and scrape the featured image\n",
    "url = 'https://data-class-jpl-space.s3.amazonaws.com/JPL_Space'\n",
    "browser.visit(url + '/index.html')\n",
    "html = browser.html\n",
    "soup = bs(html, 'html.parser')\n",
    "\n",
    "# Scrape the featured image location\n",
    "header = soup.find_all('div', class_='header')\n",
    "for item in header: \n",
    "    featured_img = soup.find('img',class_='headerimage fade-in')['src']\n",
    "    \n",
    "# Get the full image url \n",
    "featured_img_url = url + '/' + featured_img\n",
    "print(featured_img_url)"
   ]
  },
  {
   "cell_type": "markdown",
   "metadata": {},
   "source": [
    "## Mars Facts Scrape"
   ]
  },
  {
   "cell_type": "code",
   "execution_count": 7,
   "metadata": {},
   "outputs": [],
   "source": [
    "# Scrape the facts table\n",
    "url = 'https://space-facts.com/mars/'\n",
    "tables = pd.read_html(url)\n",
    "\n",
    "# Convert to dataframe \n",
    "facts_df = pd.DataFrame(tables[0])\n",
    "\n",
    "# Convert to HTML table string\n",
    "facts_html = facts_df.to_html()"
   ]
  },
  {
   "cell_type": "markdown",
   "metadata": {},
   "source": [
    "## Mars Hemispheres Scrape"
   ]
  },
  {
   "cell_type": "code",
   "execution_count": 8,
   "metadata": {},
   "outputs": [],
   "source": [
    "# Scrape pictures of each hemisphere \n",
    "url = 'https://astrogeology.usgs.gov/search/results?q=hemisphere+enhanced&k1=target&v1=Mars'\n",
    "response = requests.get(url)\n",
    "soup = bs(response.text, 'html.parser')"
   ]
  },
  {
   "cell_type": "code",
   "execution_count": 64,
   "metadata": {},
   "outputs": [
    {
     "name": "stdout",
     "output_type": "stream",
     "text": [
      "['/search/map/Mars/Viking/cerberus_enhanced', '/search/map/Mars/Viking/schiaparelli_enhanced', '/search/map/Mars/Viking/syrtis_major_enhanced', '/search/map/Mars/Viking/valles_marineris_enhanced']\n"
     ]
    }
   ],
   "source": [
    "# Navigate to item section \n",
    "links = soup.find_all('a', class_='itemLink product-item')\n",
    "\n",
    "# Create empty list of links \n",
    "link_list = []\n",
    "\n",
    "# Loop through link section and get image info links \n",
    "for link in links:\n",
    "    img_link = link['href']\n",
    "    \n",
    "    # Add image info to list \n",
    "    link_list.append(img_link)\n",
    "\n",
    "print(link_list)"
   ]
  },
  {
   "cell_type": "code",
   "execution_count": 65,
   "metadata": {},
   "outputs": [
    {
     "name": "stdout",
     "output_type": "stream",
     "text": [
      "['https://astrogeology.usgs.gov/search/map/Mars/Viking/cerberus_enhanced', 'https://astrogeology.usgs.gov/search/map/Mars/Viking/schiaparelli_enhanced', 'https://astrogeology.usgs.gov/search/map/Mars/Viking/syrtis_major_enhanced', 'https://astrogeology.usgs.gov/search/map/Mars/Viking/valles_marineris_enhanced']\n"
     ]
    }
   ],
   "source": [
    "# Generate full links to image info pages \n",
    "base_url = 'https://astrogeology.usgs.gov'\n",
    "\n",
    "# Empty list for full links \n",
    "full_links = []\n",
    "\n",
    "# Loop through link list and generate full link\n",
    "for link in link_list:\n",
    "    full_link = base_url + link\n",
    "    full_links.append(full_link)\n",
    "\n",
    "print(full_links)"
   ]
  },
  {
   "cell_type": "code",
   "execution_count": 126,
   "metadata": {},
   "outputs": [
    {
     "name": "stdout",
     "output_type": "stream",
     "text": [
      "['https://astropedia.astrogeology.usgs.gov/download/Mars/Viking/cerberus_enhanced.tif', 'https://astropedia.astrogeology.usgs.gov/download/Mars/Viking/schiaparelli_enhanced.tif', 'https://astropedia.astrogeology.usgs.gov/download/Mars/Viking/syrtis_major_enhanced.tif', 'https://astropedia.astrogeology.usgs.gov/download/Mars/Viking/valles_marineris_enhanced.tif']\n"
     ]
    }
   ],
   "source": [
    "# Empty lists for full-size image links and titles\n",
    "img_links = []\n",
    "titles = []\n",
    "\n",
    "# Scrape each img info link \n",
    "for link in full_links:\n",
    "    response = requests.get(link)\n",
    "    soup = bs(response.text, 'html.parser')\n",
    "    \n",
    "    # Navigate to title \n",
    "    title = soup.find('h2', class_='title').text\n",
    "    titles.append(title)\n",
    "    \n",
    "    # Navigate to image link location\n",
    "    downloads = soup.find('div', class_='downloads')\n",
    "    download_list = downloads.find_all('ul')\n",
    "    \n",
    "    # Loop through list and scrape the .tif link\n",
    "    for download in download_list:\n",
    "        \n",
    "        # Navigate to the download links \n",
    "        anchors = download.find_all('a')\n",
    "        \n",
    "        # Only get the full-size image (Original)\n",
    "        tif = anchors[1] \n",
    "        \n",
    "        # Scrape the link\n",
    "        link = tif['href']\n",
    "        \n",
    "        # Add to list\n",
    "        img_links.append(link)"
   ]
  },
  {
   "cell_type": "code",
   "execution_count": null,
   "metadata": {},
   "outputs": [],
   "source": [
    "hemispheres = []\n",
    "for title in titles:\n",
    "    "
   ]
  }
 ],
 "metadata": {
  "kernelspec": {
   "display_name": "Python 3",
   "language": "python",
   "name": "python3"
  },
  "language_info": {
   "codemirror_mode": {
    "name": "ipython",
    "version": 3
   },
   "file_extension": ".py",
   "mimetype": "text/x-python",
   "name": "python",
   "nbconvert_exporter": "python",
   "pygments_lexer": "ipython3",
   "version": "3.8.5"
  }
 },
 "nbformat": 4,
 "nbformat_minor": 4
}
